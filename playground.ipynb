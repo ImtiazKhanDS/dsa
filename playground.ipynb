{
 "cells": [
  {
   "cell_type": "code",
   "execution_count": 16,
   "id": "c95ee228-fe7f-47da-ab6b-1fcb0cca6787",
   "metadata": {},
   "outputs": [
    {
     "data": {
      "text/plain": [
       "[[3], [2], [2, 3], [1], [1, 3], [1, 2], [1, 2, 3]]"
      ]
     },
     "execution_count": 16,
     "metadata": {},
     "output_type": "execute_result"
    }
   ],
   "source": [
    "def subsets(input_list:list):\n",
    "    n = len(input_list)\n",
    "    to_bin = [f'{i:0{n}b}' for i in range(1,2**n)]\n",
    "    output = []\n",
    "    for z in to_bin:\n",
    "        temp = []\n",
    "        for x, y in zip(z,input_list):\n",
    "            if x !='0':\n",
    "                temp.append(y)\n",
    "        output.append(temp)\n",
    "\n",
    "    return output\n",
    "        \n",
    "        \n",
    "\n",
    "subsets([1, 2, 3])"
   ]
  },
  {
   "cell_type": "code",
   "execution_count": 30,
   "id": "83d86c43-6e2f-4f0b-9644-36676912d8e3",
   "metadata": {},
   "outputs": [
    {
     "data": {
      "text/plain": [
       "7"
      ]
     },
     "execution_count": 30,
     "metadata": {},
     "output_type": "execute_result"
    }
   ],
   "source": [
    "def get_max(arr:list, i:int, j:int):\n",
    "    if i==j:\n",
    "        return arr[i]\n",
    "    m = (i+j)//2\n",
    "    return max(get_max(arr, i, m), get_max(arr, m+1, j))\n",
    "temp = [7,1,4,3,2,6,5]\n",
    "get_max(temp, 0, 6)"
   ]
  },
  {
   "cell_type": "code",
   "execution_count": 3,
   "id": "9dfa5f26-a670-4974-9869-2c83d8a025cb",
   "metadata": {},
   "outputs": [
    {
     "data": {
      "text/plain": [
       "125"
      ]
     },
     "execution_count": 3,
     "metadata": {},
     "output_type": "execute_result"
    }
   ],
   "source": [
    "def get_pow(n:int, k:int):\n",
    "    if k==0:\n",
    "        return 1\n",
    "\n",
    "    res = get_pow(n,k//2)\n",
    "    if k%2==0:\n",
    "        return res * res\n",
    "    else:\n",
    "        return n * res * res\n",
    "\n",
    "get_pow(5, 3)"
   ]
  },
  {
   "cell_type": "code",
   "execution_count": 14,
   "id": "01b1fd52-0a66-47b6-bd84-3a30bb351008",
   "metadata": {},
   "outputs": [
    {
     "name": "stdout",
     "output_type": "stream",
     "text": [
      "((()))\n",
      "(()())\n",
      "(())()\n",
      "()(())\n",
      "()()()\n"
     ]
    }
   ],
   "source": [
    "def printbraces(N:int, l:int, r:int, i:int, s:str):\n",
    "    if i == 2*N:\n",
    "        print(\"\".join(s))\n",
    "        return\n",
    "\n",
    "    if l == r:\n",
    "        s[i] = '('\n",
    "        printbraces(N, l+1, r, i+1, s)\n",
    "\n",
    "    elif l>r:\n",
    "        if l == N:\n",
    "            s[i] = ')'\n",
    "            printbraces(N, l, r+1, i+1, s)\n",
    "        else:\n",
    "            s[i] = '('\n",
    "            printbraces(N, l+1, r, i+1, s)\n",
    "            s[i] = ')'\n",
    "            printbraces(N, l, r+1, i+1, s)\n",
    "\n",
    "N = 3\n",
    "s = ['' for i in range(2*N)]\n",
    "printbraces(N, 0, 0 , 0, s)"
   ]
  },
  {
   "cell_type": "code",
   "execution_count": 13,
   "id": "846c49fe-398c-421a-8865-09376b3379cf",
   "metadata": {},
   "outputs": [
    {
     "name": "stdout",
     "output_type": "stream",
     "text": [
      "[]\n",
      "[1]\n",
      "[1, 2]\n",
      "[1, 2, 3]\n",
      "[1, 3]\n",
      "[2]\n",
      "[2, 3]\n",
      "[3]\n"
     ]
    }
   ],
   "source": [
    "def lsubset(nums:list, i:int, temp:list):\n",
    "    print([x for x in temp if x])\n",
    "    \n",
    "    if i == len(nums):\n",
    "        return\n",
    "\n",
    "\n",
    "    for k in range(i, len(nums)):\n",
    "        temp[k] = nums[k]\n",
    "        lsubset(nums, k+1, temp)\n",
    "        temp[k] = None\n",
    "\n",
    "        \n",
    "           \n",
    "nums =[1, 2, 3]\n",
    "tmp = [None]*len(nums)\n",
    "lsubset(nums, 0, tmp)"
   ]
  },
  {
   "cell_type": "code",
   "execution_count": 43,
   "id": "8faa56d4-5fef-4559-818c-6fbc92e06afd",
   "metadata": {},
   "outputs": [
    {
     "name": "stdout",
     "output_type": "stream",
     "text": [
      "2\n"
     ]
    }
   ],
   "source": [
    "def subsetSum(nums:list, i:int, sum:int, cnt:list):\n",
    "    if i == len(nums):\n",
    "        if sum == 0:\n",
    "            cnt[0]+=1\n",
    "        return cnt\n",
    "    \n",
    "    subsetSum(nums, i+1, sum - nums[i], cnt)\n",
    "    subsetSum(nums, i+1, sum,cnt)\n",
    "\n",
    "cnt = [0]\n",
    "subsetSum([1,2,3], 0,3, cnt)\n",
    "print(cnt[0])"
   ]
  },
  {
   "cell_type": "code",
   "execution_count": 44,
   "id": "c289bb91-ed5d-4660-8b67-1a30df65ddbb",
   "metadata": {},
   "outputs": [
    {
     "data": {
      "text/plain": [
       "2"
      ]
     },
     "execution_count": 44,
     "metadata": {},
     "output_type": "execute_result"
    }
   ],
   "source": [
    "def subsetSum(nums:list, i:int, _sum:int, cnt:list):\n",
    "    if i == len(nums):\n",
    "        return _sum == 0\n",
    "    return subsetSum(nums, i+1, _sum - nums[i], cnt) + subsetSum(nums, i+1, _sum,cnt)\n",
    "subsetSum([1,2,3], 0,3, cnt)"
   ]
  },
  {
   "cell_type": "code",
   "execution_count": 55,
   "id": "30779c1a-4d95-4249-8404-e978d7a6fe26",
   "metadata": {},
   "outputs": [
    {
     "data": {
      "text/plain": [
       "3"
      ]
     },
     "execution_count": 55,
     "metadata": {},
     "output_type": "execute_result"
    }
   ],
   "source": [
    "def subsetSum(nums:list, i:int, _sum:int, cnt:list):\n",
    "    if _sum<0:\n",
    "        return 0\n",
    "    if _sum == 0:\n",
    "        return 1\n",
    "    if i == len(nums):\n",
    "        return 0\n",
    "    return (subsetSum(nums, i, _sum - nums[i], cnt)\n",
    "            + subsetSum(nums, i+1, _sum,cnt))\n",
    "subsetSum([1,2], 0,4, cnt)"
   ]
  },
  {
   "cell_type": "code",
   "execution_count": 3,
   "id": "cfa8b500-3dd8-4510-b881-dbaa55b22b0e",
   "metadata": {},
   "outputs": [
    {
     "name": "stdout",
     "output_type": "stream",
     "text": [
      "ABC\n",
      "ACB\n",
      "BAC\n",
      "BCA\n",
      "CBA\n",
      "CAB\n"
     ]
    }
   ],
   "source": [
    "def permute(s:list,i:int):\n",
    "    if i == len(s):\n",
    "        print(\"\".join(s))\n",
    "    for k in range(i, len(s)):\n",
    "        s[i],s[k] = s[k], s[i]\n",
    "        permute(s, i+1)\n",
    "        s[i], s[k] = s[k],s[i]\n",
    "\n",
    "st = list(\"ABC\")\n",
    "permute(st, 0)\n",
    "        "
   ]
  },
  {
   "cell_type": "code",
   "execution_count": 65,
   "id": "46810e1a-31df-40f6-ae8d-9de9e76c1042",
   "metadata": {},
   "outputs": [
    {
     "name": "stdout",
     "output_type": "stream",
     "text": [
      "ABC\n",
      "ABC\n",
      "ABC\n",
      "ABC\n",
      "BAC\n",
      "BAC\n"
     ]
    }
   ],
   "source": [
    "def permute(s:list,i:int):\n",
    "    if i == len(s):\n",
    "        print(\"\".join(s))\n",
    "    for k in range(i, len(s)):\n",
    "        s[i:k] = rightrotate(s[i:k])\n",
    "        permute(s, i+1)\n",
    "        s[i:k] = leftrotate(s[i:k])\n",
    "\n",
    "st = list(\"ABC\")\n",
    "permute(st, 0)"
   ]
  },
  {
   "cell_type": "code",
   "execution_count": 66,
   "id": "1ce023b9-947a-422f-952f-00397b4569b8",
   "metadata": {},
   "outputs": [
    {
     "data": {
      "text/plain": [
       "['A', 'B', 'C']"
      ]
     },
     "execution_count": 66,
     "metadata": {},
     "output_type": "execute_result"
    }
   ],
   "source": [
    "st"
   ]
  },
  {
   "cell_type": "code",
   "execution_count": 63,
   "id": "ad7e9977-3ac2-4f19-821d-c1bd85ece26c",
   "metadata": {},
   "outputs": [
    {
     "data": {
      "text/plain": [
       "['C', 'A', 'B']"
      ]
     },
     "execution_count": 63,
     "metadata": {},
     "output_type": "execute_result"
    }
   ],
   "source": [
    " def rightrotate(a:list):\n",
    "    n = len(a)\n",
    "    if n==0:\n",
    "        return a\n",
    "    first = a[n-1]\n",
    "    for k in range(n-1, 0, -1):\n",
    "        a[k] = a[k-1]\n",
    "    a[0] = first\n",
    "    return a\n",
    "     \n",
    "rightrotate(st)"
   ]
  },
  {
   "cell_type": "code",
   "execution_count": 67,
   "id": "83899b6b-1307-437c-87d4-18c7651caeb1",
   "metadata": {},
   "outputs": [
    {
     "data": {
      "text/plain": [
       "['B', 'C', 'A']"
      ]
     },
     "execution_count": 67,
     "metadata": {},
     "output_type": "execute_result"
    }
   ],
   "source": [
    " def leftrotate(a:list):\n",
    "    n = len(a)\n",
    "    if n==0:\n",
    "        return a\n",
    "    first = a[0]\n",
    "    for k in range(1, n):\n",
    "        a[k-1] = a[k]\n",
    "    a[n-1] = first\n",
    "    return a\n",
    "     \n",
    "leftrotate(st)"
   ]
  },
  {
   "cell_type": "code",
   "execution_count": 58,
   "id": "52328a30-aa68-4e14-99cb-d56746fc486b",
   "metadata": {},
   "outputs": [
    {
     "data": {
      "text/plain": [
       "[2, 3, 4, 5, 1]"
      ]
     },
     "execution_count": 58,
     "metadata": {},
     "output_type": "execute_result"
    }
   ],
   "source": [
    "a =[1, 2, 3, 4, 5]\n"
   ]
  },
  {
   "cell_type": "code",
   "execution_count": 62,
   "id": "b7df8786-091b-4657-8a6f-ce61b2f442df",
   "metadata": {},
   "outputs": [
    {
     "data": {
      "text/plain": [
       "[2]"
      ]
     },
     "execution_count": 62,
     "metadata": {},
     "output_type": "execute_result"
    }
   ],
   "source": [
    "a[0:1]"
   ]
  },
  {
   "cell_type": "code",
   "execution_count": 70,
   "id": "87ade4b7-bc40-43a4-a6e6-97e35fccba95",
   "metadata": {},
   "outputs": [
    {
     "name": "stdout",
     "output_type": "stream",
     "text": [
      "ABC\n",
      "ACB\n",
      "BAC\n",
      "BCA\n",
      "CAB\n",
      "CBA\n"
     ]
    }
   ],
   "source": [
    "def permute(s: list, i: int):\n",
    "    if i == len(s):\n",
    "        print(\"\".join(s))\n",
    "    else:\n",
    "        for k in range(i, len(s)):\n",
    "            # Rotate right\n",
    "            s[i:k + 1] = rightrotate(s[i:k + 1])\n",
    "            permute(s, i + 1)\n",
    "            # Rotate back to original position (left rotation)\n",
    "            s[i:k + 1] = leftrotate(s[i:k + 1])\n",
    "\n",
    "def rightrotate(a: list):\n",
    "    n = len(a)\n",
    "    if n == 0:\n",
    "        return\n",
    "    # Save the last element\n",
    "    last = a[-1]\n",
    "    # Shift elements to the right\n",
    "    for k in range(n - 1, 0, -1):\n",
    "        a[k] = a[k - 1]\n",
    "    a[0] = last  # Place last element at the front\n",
    "    return a\n",
    "\n",
    "def leftrotate(a: list):\n",
    "    n = len(a)\n",
    "    if n == 0:\n",
    "        return\n",
    "    # Save the first element\n",
    "    first = a[0]\n",
    "    # Shift elements to the left\n",
    "    for k in range(1, n):\n",
    "        a[k - 1] = a[k]\n",
    "    a[n - 1] = first  # Place first element at the end\n",
    "    return a\n",
    "\n",
    "# Example usage\n",
    "st = list(\"ABC\")\n",
    "permute(st, 0)\n"
   ]
  },
  {
   "cell_type": "code",
   "execution_count": 71,
   "id": "12687b7d-6152-4028-b063-d8f8359d4a10",
   "metadata": {},
   "outputs": [
    {
     "name": "stdout",
     "output_type": "stream",
     "text": [
      "ABA\n",
      "AAB\n",
      "BAA\n",
      "BAA\n",
      "AAB\n",
      "ABA\n"
     ]
    }
   ],
   "source": [
    "st = list(\"ABA\")\n",
    "permute(st, 0)"
   ]
  },
  {
   "cell_type": "code",
   "execution_count": 72,
   "id": "0da04d1e-2145-4951-b615-0eb3026fcca8",
   "metadata": {},
   "outputs": [
    {
     "name": "stdout",
     "output_type": "stream",
     "text": [
      "['a', 'b', 'a', 'b']\n",
      "['a', 'b', 'b', 'a']\n",
      "['a', 'a', 'b', 'b']\n",
      "['b', 'a', 'a', 'b']\n",
      "['b', 'a', 'b', 'a']\n",
      "['b', 'b', 'a', 'a']\n"
     ]
    }
   ],
   "source": [
    "def permdup(st:list, i:int):\n",
    "    if i == len(st):\n",
    "        print(st)\n",
    "        return\n",
    "\n",
    "    freq = [0 for _ in range(26)]\n",
    "    for j in range(i, len(st)):\n",
    "        if freq[ord(st[j])-ord('a')] == 0:\n",
    "            st[i] , st[j] = st[j], st[i]\n",
    "            permdup(st,i+1)\n",
    "            st[j] , st[i] = st[i] , st[j]\n",
    "            freq[ord(st[j])-ord('a')] +=1\n",
    "st= list(\"abab\")\n",
    "permdup(st, 0)"
   ]
  },
  {
   "cell_type": "code",
   "execution_count": null,
   "id": "87a17ff3-4a19-455a-8a1f-bcf191d76c13",
   "metadata": {},
   "outputs": [],
   "source": [
    "ijjjk"
   ]
  },
  {
   "cell_type": "code",
   "execution_count": 78,
   "id": "c23a5b0f-e005-4b13-92f2-f414145be00e",
   "metadata": {},
   "outputs": [
    {
     "name": "stdout",
     "output_type": "stream",
     "text": [
      "[(0, 0), (1, 0), (1, 1), (2, 1), (3, 1), (3, 2)]\n",
      "[(0, 0), (0, 1), (1, 1), (2, 1), (3, 1), (3, 2)]\n"
     ]
    }
   ],
   "source": [
    "def paths(a:list,i:int,j:int,N:int, pth:list):\n",
    "    if a[i][j] == 1:\n",
    "        return\n",
    "    if i==j and j==N-1:\n",
    "        print(pth)\n",
    "        return\n",
    "    pth.append((i,j))\n",
    "    if i == N-1:\n",
    "        paths(a, i, j+1, N, pth)\n",
    "    elif j == N-1:\n",
    "        paths(a, i+1, j,N, pth)\n",
    "    else:\n",
    "        paths(a, i+1, j,N, pth)\n",
    "        paths(a, i, j+1, N, pth)\n",
    "    pth.pop()\n",
    "\n",
    "temp = []\n",
    "a = [[0, 0, 1,1],[0,0,1,0],[1,0,1,1],[0,0,0,0]]\n",
    "paths(a,0, 0, 4, temp)\n"
   ]
  },
  {
   "cell_type": "code",
   "execution_count": null,
   "id": "ea1e9e9c-47c9-465c-9af8-6bbf7e5d6649",
   "metadata": {},
   "outputs": [],
   "source": []
  },
  {
   "cell_type": "code",
   "execution_count": 11,
   "id": "1e1fd41a-5d42-4e0c-8ba4-ef40fbeab827",
   "metadata": {},
   "outputs": [
    {
     "data": {
      "text/plain": [
       "6"
      ]
     },
     "execution_count": 11,
     "metadata": {},
     "output_type": "execute_result"
    }
   ],
   "source": [
    "def f(matrix : list, si:int, sj:int):\n",
    "    m = len(matrix)\n",
    "    n = len(matrix[0])\n",
    "    isVisited = [[0 for _ in range(n)] for _ in range(m)]\n",
    "\n",
    "    def isSafe(i:int, j:int):\n",
    "        if i>=m or j>=n:\n",
    "            return False\n",
    "        elif i<0 or j<0:\n",
    "            return False\n",
    "        elif matrix[i][j] == -1:\n",
    "            return False\n",
    "        else:\n",
    "            return True\n",
    "            \n",
    "    def countPaths(matrix:list, i:int, j:int, isVisited:list):\n",
    "        if matrix[i][j] == 2:\n",
    "            return 1\n",
    "        \n",
    "        isVisited[i][j] = 1\n",
    "        _sum = 0\n",
    "        \n",
    "        if isSafe(i,j+1) and not isVisited[i][j+1]:\n",
    "            _sum += countPaths(matrix, i, j+1, isVisited)\n",
    "\n",
    "        if isSafe(i+1,j) and not isVisited[i+1][j]:\n",
    "            _sum += countPaths(matrix, i+1, j, isVisited)\n",
    "\n",
    "        if isSafe(i,j-1) and not isVisited[i][j-1]:\n",
    "            _sum += countPaths(matrix, i, j-1, isVisited)\n",
    "\n",
    "        if isSafe(i-1,j) and not isVisited[i-1][j]:\n",
    "            _sum += countPaths(matrix, i-1, j, isVisited)\n",
    "\n",
    "        isVisited[i][j] = 0\n",
    "        return _sum\n",
    "\n",
    "    cnt = countPaths(matrix, si, sj, isVisited)\n",
    "    return cnt\n",
    "\n",
    "matrix = [[0, 1, 0],\n",
    "          [0, 0, 0],\n",
    "          [0, 2, -1]]\n",
    "\n",
    "f(matrix, 0,1)\n",
    "            "
   ]
  },
  {
   "cell_type": "code",
   "execution_count": 35,
   "id": "eb9f84d5-0e7f-4762-8e3d-10c04c523149",
   "metadata": {},
   "outputs": [
    {
     "name": "stdout",
     "output_type": "stream",
     "text": [
      "[[0, 1, 0, 0], [0, 0, 0, 1], [1, 0, 0, 0], [0, 0, 1, 0]]\n",
      "[[0, 0, 1, 0], [1, 0, 0, 0], [0, 0, 0, 1], [0, 1, 0, 0]]\n"
     ]
    }
   ],
   "source": [
    "def isSafe(arr:list, r:int, c:int, N:int):\n",
    "    # check the column \n",
    "    # check the row\n",
    "    # check the diagonals starting from r,c \n",
    "    # and going upwards in both directions\n",
    "\n",
    "    # check column\n",
    "    for i in range(r):\n",
    "        if arr[i][c] == 1:\n",
    "            return False\n",
    "            \n",
    "    # check right upward diagonal\n",
    "    i = r\n",
    "    j = c\n",
    "    while i>=0 and j<N:\n",
    "        if arr[i][j] == 1:\n",
    "            return False\n",
    "        i-=1\n",
    "        j+=1\n",
    "\n",
    "    # check left upward diagonal\n",
    "    i = r\n",
    "    j = c\n",
    "    while i>=0 and j>=0:\n",
    "        if arr[i][j] == 1:\n",
    "            return False\n",
    "        i-=1\n",
    "        j-=1\n",
    "    return True\n",
    "\n",
    "def printNQ(arr:list, r:int, N:int):\n",
    "    if r == N:\n",
    "        print(arr)\n",
    "        return\n",
    "\n",
    "    for c in range(N):\n",
    "        #print(isSafe(arr,r,c,N), arr, r, c, N)\n",
    "        if isSafe(arr, r, c, N):\n",
    "            arr[r][c] = 1\n",
    "            printNQ(arr, r+1, N)\n",
    "            arr[r][c] = 0\n",
    "\n",
    "N = 4\n",
    "arr = [[0 for _ in range(N)] for _ in range(N)]\n",
    "printNQ(arr, 0, 4)"
   ]
  },
  {
   "cell_type": "code",
   "execution_count": 49,
   "id": "0cc79ea8-c084-4a9a-a4b6-3d8f5d05155e",
   "metadata": {},
   "outputs": [
    {
     "data": {
      "text/plain": [
       "[[5, 3, 4, 6, 7, 8, 9, 1, 2],\n",
       " [6, 7, 2, 1, 9, 5, 3, 4, 8],\n",
       " [1, 9, 8, 3, 4, 2, 5, 6, 7],\n",
       " [8, 5, 9, 7, 6, 1, 4, 2, 3],\n",
       " [4, 2, 6, 8, 5, 3, 7, 9, 1],\n",
       " [7, 1, 3, 9, 2, 4, 8, 5, 6],\n",
       " [9, 6, 1, 5, 3, 7, 2, 8, 4],\n",
       " [2, 8, 7, 4, 1, 9, 6, 3, 5],\n",
       " [3, 4, 5, 2, 8, 6, 1, 7, 9]]"
      ]
     },
     "execution_count": 49,
     "metadata": {},
     "output_type": "execute_result"
    }
   ],
   "source": [
    "def solveSudoku(board: list):\n",
    "    ansfound = [False]  # Use a list to allow mutation within ss\n",
    "    row_freq = [] \n",
    "    col_freq = [] \n",
    "    mat_freq = []\n",
    "    ans = []\n",
    "\n",
    "    # Calculate frequency for rows\n",
    "    for i in range(9):\n",
    "        r_f = [0 for _ in range(9)]\n",
    "        for j in range(9):\n",
    "            if board[i][j] != 0:\n",
    "                r_f[board[i][j] - 1] += 1\n",
    "        row_freq.append(r_f)\n",
    "\n",
    "    # Calculate frequency for columns\n",
    "    for j in range(9):\n",
    "        c_f = [0 for _ in range(9)]\n",
    "        for i in range(9):\n",
    "            if board[i][j] != 0:\n",
    "                c_f[board[i][j] - 1] += 1\n",
    "        col_freq.append(c_f)\n",
    "\n",
    "    # Calculate frequency for 3x3 matrices\n",
    "    for i in range(0, 9, 3):\n",
    "        for j in range(0, 9, 3):\n",
    "            m_f = [0 for _ in range(9)]\n",
    "            for i1 in range(3):\n",
    "                for j1 in range(3):\n",
    "                    if board[i + i1][j + j1] != 0:\n",
    "                        m_f[board[i + i1][j + j1] - 1] += 1\n",
    "            mat_freq.append(m_f)\n",
    "\n",
    "    def getMatNum(i, j):\n",
    "        '''\n",
    "        Row Calculation (i // 3):\n",
    "        This integer division divides the row index i by 3. It effectively groups the rows into sets of three:\n",
    "        For i = 0, 1, 2 → 0 (first subgrid)\n",
    "        For i = 3, 4, 5 → 1 (second subgrid)\n",
    "        For i = 6, 7, 8 → 2 (third subgrid)\n",
    "        Column Calculation (j // 3):\n",
    "        \n",
    "        This similarly divides the column index j by 3 to group the columns:\n",
    "        For j = 0, 1, 2 → 0 (leftmost subgrid)\n",
    "        For j = 3, 4, 5 → 1 (middle subgrid)\n",
    "        For j = 6, 7, 8 → 2 (rightmost subgrid)\n",
    "        Combining Row and Column:\n",
    "        \n",
    "        The total index of the 3x3 subgrid is calculated by combining the row and column results:\n",
    "        The formula (i // 3) * 3 + (j // 3) effectively maps each cell to its corresponding subgrid index:\n",
    "        The first row of subgrids corresponds to indices 0, 1, 2 (for rows 0, 1, 2).\n",
    "        The second row of subgrids corresponds to indices 3, 4, 5 (for rows 3, 4, 5).\n",
    "        The third row of subgrids corresponds to indices 6, 7, 8 (for rows 6, 7, 8).\n",
    "\n",
    "        '''\n",
    "        return (i // 3) * 3 + (j // 3)\n",
    "\n",
    "    def ss(board, i, j):\n",
    "        if ansfound[0]: \n",
    "            return\n",
    "\n",
    "        if i == 9:  # If we've filled the board\n",
    "            ansfound[0] = True\n",
    "            ans.clear()\n",
    "            for row in board:\n",
    "                ans.append(row.copy())\n",
    "            return\n",
    "\n",
    "        # Move to the next cell\n",
    "        next_i, next_j = (i, j + 1) if j < 8 else (i + 1, 0)\n",
    "\n",
    "        if board[i][j] != 0:\n",
    "            ss(board, next_i, next_j)\n",
    "            return\n",
    "\n",
    "        matnum = getMatNum(i, j)\n",
    "        for val in range(9):\n",
    "            if row_freq[i][val] == 0 and col_freq[j][val] == 0 and mat_freq[matnum][val] == 0:\n",
    "                # Do\n",
    "                board[i][j] = val + 1\n",
    "                row_freq[i][val] = 1\n",
    "                col_freq[j][val] = 1\n",
    "                mat_freq[matnum][val] = 1\n",
    "                \n",
    "                # Recurse\n",
    "                ss(board, next_i, next_j)\n",
    "\n",
    "                # Undo\n",
    "                if not ansfound[0]:  # Only undo if we haven't found a solution\n",
    "                    board[i][j] = 0\n",
    "                    row_freq[i][val] = 0\n",
    "                    col_freq[j][val] = 0\n",
    "                    mat_freq[matnum][val] = 0\n",
    "\n",
    "    ss(board, 0, 0)\n",
    "    return ans\n",
    "\n",
    "board = [[5,3,0,0,7,0,0,0,0],\n",
    "         [6,0,0,1,9,5,0,0,0],\n",
    "         [0,9,8,0,0,0,0,6,0],\n",
    "         [8,0,0,0,6,0,0,0,3],\n",
    "         [4,0,0,8,0,3,0,0,1],\n",
    "         [7,0,0,0,2,0,0,0,6],\n",
    "         [0,6,0,0,0,0,2,8,0],\n",
    "         [0,0,0,4,1,9,0,0,5],\n",
    "         [0,0,0,0,8,0,0,7,9]]\n",
    "\n",
    "solveSudoku(board)"
   ]
  },
  {
   "cell_type": "code",
   "execution_count": 53,
   "id": "94b27346-4768-439a-bf4a-64a890b25651",
   "metadata": {},
   "outputs": [
    {
     "data": {
      "text/plain": [
       "'<table><tr><td>5</td><td>3</td><td>0</td><td>0</td><td>7</td><td>0</td><td>0</td><td>0</td><td>0</td></tr><tr><td>6</td><td>0</td><td>0</td><td>1</td><td>9</td><td>5</td><td>0</td><td>0</td><td>0</td></tr><tr><td>0</td><td>9</td><td>8</td><td>0</td><td>0</td><td>0</td><td>0</td><td>6</td><td>0</td></tr><tr><td>8</td><td>0</td><td>0</td><td>0</td><td>6</td><td>0</td><td>0</td><td>0</td><td>3</td></tr><tr><td>4</td><td>0</td><td>0</td><td>8</td><td>0</td><td>3</td><td>0</td><td>0</td><td>1</td></tr><tr><td>7</td><td>0</td><td>0</td><td>0</td><td>2</td><td>0</td><td>0</td><td>0</td><td>6</td></tr><tr><td>0</td><td>6</td><td>0</td><td>0</td><td>0</td><td>0</td><td>2</td><td>8</td><td>0</td></tr><tr><td>0</td><td>0</td><td>0</td><td>4</td><td>1</td><td>9</td><td>0</td><td>0</td><td>5</td></tr><tr><td>0</td><td>0</td><td>0</td><td>0</td><td>8</td><td>0</td><td>0</td><td>7</td><td>9</td></tr></table>'"
      ]
     },
     "execution_count": 53,
     "metadata": {},
     "output_type": "execute_result"
    }
   ],
   "source": [
    "board = [[5,3,0,0,7,0,0,0,0],\n",
    "         [6,0,0,1,9,5,0,0,0],\n",
    "         [0,9,8,0,0,0,0,6,0],\n",
    "         [8,0,0,0,6,0,0,0,3],\n",
    "         [4,0,0,8,0,3,0,0,1],\n",
    "         [7,0,0,0,2,0,0,0,6],\n",
    "         [0,6,0,0,0,0,2,8,0],\n",
    "         [0,0,0,4,1,9,0,0,5],\n",
    "         [0,0,0,0,8,0,0,7,9]]\n",
    "\n",
    "st='<table>'\n",
    "for i in range(9):\n",
    "    st+=\"<tr>\"\n",
    "    for j in range(9):\n",
    "        st+= f\"<td>{board[i][j]}</td>\"\n",
    "    st+=\"</tr>\"\n",
    "\n",
    "st+='</table>'\n",
    "st"
   ]
  },
  {
   "cell_type": "code",
   "execution_count": 55,
   "id": "20b745e8-6c05-448b-b222-5c4dab88f227",
   "metadata": {},
   "outputs": [
    {
     "data": {
      "text/plain": [
       "'2314'"
      ]
     },
     "execution_count": 55,
     "metadata": {},
     "output_type": "execute_result"
    }
   ],
   "source": [
    "class Solution:\n",
    "    def getPermutation(self, n: int, k: int) -> str:\n",
    "        nums = [num + 1 for num in range(n)]\n",
    "        ans = []\n",
    "\n",
    "        def rightrotate(nums: list):\n",
    "            n = len(nums)\n",
    "            if n == 0:\n",
    "                return\n",
    "            last = nums[n - 1]\n",
    "            for k in range(n - 1, -1, -1):\n",
    "                nums[k] = nums[k - 1]\n",
    "            nums[0] = last\n",
    "            return nums\n",
    "\n",
    "        def leftrotate(nums: list):\n",
    "            n = len(nums)\n",
    "            if n == 0:\n",
    "                return\n",
    "            first = nums[0]\n",
    "            for k in range(1, n):\n",
    "                nums[k - 1] = nums[k]\n",
    "            nums[n - 1] = first\n",
    "            return nums\n",
    "\n",
    "        def getsequence(i: int, k: int, n: int, ansfound: list):\n",
    "            if ansfound[0]:\n",
    "                return\n",
    "\n",
    "            if i == n:\n",
    "                ans.append(nums.copy())\n",
    "                if len(ans) == k:\n",
    "                    ansfound = [True]\n",
    "                return\n",
    "\n",
    "            for j in range(i, n):\n",
    "                nums[i : j + 1] = rightrotate(nums[i : j + 1])\n",
    "                getsequence(i + 1, k, n, ansfound)\n",
    "                nums[i : j + 1] = leftrotate(nums[i : j + 1])\n",
    "\n",
    "        getsequence(0, k, n, [False])\n",
    "        return \"\".join([str(x) for x in ans[k - 1]])\n",
    "\n",
    "sol = Solution()\n",
    "\n",
    "sol.getPermutation(4, 9)\n"
   ]
  },
  {
   "cell_type": "code",
   "execution_count": 65,
   "id": "7992b1ff-d3cb-47d2-a68d-16c40459e7da",
   "metadata": {},
   "outputs": [
    {
     "name": "stdout",
     "output_type": "stream",
     "text": [
      "[[7, 1, 5, 4, 2, 8, 6, 3]]\n"
     ]
    },
    {
     "data": {
      "text/plain": [
       "'71542863'"
      ]
     },
     "execution_count": 65,
     "metadata": {},
     "output_type": "execute_result"
    }
   ],
   "source": [
    "class Solution:\n",
    "    def getPermutation(self, n: int, k: int) -> str:\n",
    "        nums = [num + 1 for num in range(n)]\n",
    "        ans = []\n",
    "\n",
    "        def rightrotate(nums: list):\n",
    "            n = len(nums)\n",
    "            if n == 0:\n",
    "                return\n",
    "            last = nums[n - 1]\n",
    "            for k in range(n - 1, -1, -1):\n",
    "                nums[k] = nums[k - 1]\n",
    "            nums[0] = last\n",
    "            return nums\n",
    "\n",
    "        def leftrotate(nums: list):\n",
    "            n = len(nums)\n",
    "            if n == 0:\n",
    "                return\n",
    "            first = nums[0]\n",
    "            for k in range(1, n):\n",
    "                nums[k - 1] = nums[k]\n",
    "            nums[n - 1] = first\n",
    "            return nums\n",
    "\n",
    "        def getsequence(i: int, e: list, k: int, n: int, ansfound: list):\n",
    "            if ansfound[0]:\n",
    "                return\n",
    "            if i == n:\n",
    "                e[0] +=1\n",
    "                if e[0] == k:\n",
    "                    ansfound = [True]\n",
    "                    ans.append(nums.copy())\n",
    "                return\n",
    "\n",
    "            for j in range(i, n):\n",
    "                nums[i : j + 1] = rightrotate(nums[i : j + 1])\n",
    "                getsequence(i + 1, e, k, n, ansfound)\n",
    "                nums[i : j + 1] = leftrotate(nums[i : j + 1])\n",
    "\n",
    "        getsequence(0, [0], k, n, [False])\n",
    "        print(ans)\n",
    "        return \"\".join([str(x) for x in ans[0]])\n",
    "\n",
    "\n",
    "\n",
    "\n",
    "\n",
    "sol = Solution()\n",
    "sol.getPermutation(8, 30654)"
   ]
  },
  {
   "cell_type": "code",
   "execution_count": 66,
   "id": "4d8cfe24-0744-4b12-bc6f-442d8a79503c",
   "metadata": {},
   "outputs": [
    {
     "data": {
      "text/plain": [
       "'71543268'"
      ]
     },
     "execution_count": 66,
     "metadata": {},
     "output_type": "execute_result"
    }
   ],
   "source": [
    "import math\n",
    "class Solution:\n",
    "    def getPermutation(self, n: int, k: int) -> str:\n",
    "        def rec(k:int, n:int, l:list, ans:list):\n",
    "            if n == 0:\n",
    "                return\n",
    "            combo = math.factorial(n-1)\n",
    "            element = k//combo\n",
    "            mod = k%combo\n",
    "            ans+= [l[element]]\n",
    "            l.pop(element)\n",
    "            rec(mod, n-1, l, ans)\n",
    "        l = [i for i in range(1, n+1)]\n",
    "        ans = []\n",
    "        rec(k, n, l, ans)\n",
    "        return \"\".join([str(x) for x in ans])\n",
    "            \n",
    "sol = Solution()\n",
    "sol.getPermutation(8, 30654)            "
   ]
  },
  {
   "cell_type": "code",
   "execution_count": 91,
   "id": "a1a554e3-f7e0-439c-bc7e-a88bf667c71c",
   "metadata": {},
   "outputs": [
    {
     "name": "stdout",
     "output_type": "stream",
     "text": [
      "Count :  8\n"
     ]
    }
   ],
   "source": [
    "from collections import defaultdict\n",
    "class Solution:\n",
    "    def numTilePossibilities(self, tiles: str) -> int:\n",
    "        n = len(tiles)\n",
    "        freq_count = defaultdict(lambda : 0)\n",
    "        for i in range(n):\n",
    "            freq_count[tiles[i]]+=1\n",
    "        def rec():\n",
    "            res = 0\n",
    "            for j in freq_count:\n",
    "                if freq_count[j]>0:\n",
    "                    freq_count[j]-=1\n",
    "                    res += rec() + 1\n",
    "                    freq_count[j]+=1\n",
    "            return res\n",
    "        c = rec()\n",
    "        print(\"Count : \",c)\n",
    "    \n",
    "\n",
    "s = Solution()\n",
    "s.numTilePossibilities(\"AAB\")"
   ]
  },
  {
   "cell_type": "code",
   "execution_count": 159,
   "id": "3f5bb199-b2f4-4b95-bed5-601259fd29e1",
   "metadata": {},
   "outputs": [
    {
     "name": "stdout",
     "output_type": "stream",
     "text": [
      "696\n"
     ]
    }
   ],
   "source": [
    "# @leet start\n",
    "class Solution:\n",
    "    def countArrangement(self, n: int) -> int:\n",
    "        nums = [i+1 for i in range(n)]\n",
    "        \n",
    "        def check(perm:list):\n",
    "            return all([perm[p-1]%p==0 or i%perm[p-1]==0 for p in range(1,n+1)])\n",
    "\n",
    "        result = list()\n",
    "        def permutation(i,nums:list, result:list):\n",
    "            if i == n:\n",
    "                if check(nums):\n",
    "                    result.append(nums.copy())\n",
    "                return\n",
    "            for k in range(i,n):\n",
    "                nums[i], nums[k] = nums[k], nums[i]\n",
    "                permutation(i+1, nums, result)\n",
    "                nums[i], nums[k] = nums[k], nums[i]\n",
    "        \n",
    "        permutation(0, nums, result)\n",
    "        print(len(result))\n",
    "s = Solution()\n",
    "s.countArrangement(11)\n",
    "# @leet end"
   ]
  },
  {
   "cell_type": "code",
   "execution_count": 162,
   "id": "6eeb286f-a4d7-45e4-b3db-0ef3c4a44e83",
   "metadata": {},
   "outputs": [
    {
     "name": "stdout",
     "output_type": "stream",
     "text": [
      "8\n"
     ]
    }
   ],
   "source": [
    "class Solution:\n",
    "    def countArrangement(self, n: int) -> int:\n",
    "        # Track which numbers are used\n",
    "        used = [False] * (n + 1)\n",
    "        count = 0\n",
    "\n",
    "        def backtrack(position):\n",
    "            nonlocal count\n",
    "            if position > n:\n",
    "                count += 1\n",
    "                return\n",
    "            \n",
    "            for num in range(1, n + 1):\n",
    "                if not used[num]:\n",
    "                    # Check the conditions\n",
    "                    if position % num == 0 or num % position == 0:\n",
    "                        used[num] = True  # Mark as used\n",
    "                        backtrack(position + 1)\n",
    "                        used[num] = False  # Backtrack\n",
    "\n",
    "        backtrack(1)  # Start from position 1\n",
    "        return count\n",
    "# @leet end\n",
    "s = Solution()\n",
    "print(s.countArrangement(4))\n"
   ]
  },
  {
   "cell_type": "code",
   "execution_count": 169,
   "id": "d68d8e15-0587-4e44-87c1-701e5f221fcb",
   "metadata": {},
   "outputs": [
    {
     "data": {
      "text/plain": [
       "2"
      ]
     },
     "execution_count": 169,
     "metadata": {},
     "output_type": "execute_result"
    }
   ],
   "source": [
    "# @leet start\n",
    "class Solution:\n",
    "    def countArrangement(self, n: int) -> int:\n",
    "        nums = [i+1 for i in range(n)]\n",
    "        count = 0\n",
    "        def permutation(i:int,nums:list):\n",
    "            nonlocal count\n",
    "            if i == n:\n",
    "                count+=1\n",
    "            for k in range(i,n):\n",
    "                nums[i], nums[k] = nums[k], nums[i]\n",
    "                if nums[i]%(i+1)==0 or (i+1)%nums[i]==0:\n",
    "                    permutation(i+1, nums)\n",
    "                nums[i], nums[k] = nums[k], nums[i]\n",
    "        \n",
    "        permutation(0, nums)\n",
    "        return count\n",
    "# @leet end\n",
    "s = Solution()\n",
    "s.countArrangement(2)"
   ]
  },
  {
   "cell_type": "code",
   "execution_count": 177,
   "id": "688421a9-49e4-4b1e-aaf9-eb7a0ebda0e2",
   "metadata": {},
   "outputs": [
    {
     "data": {
      "text/plain": [
       "[['a', 'a', 'b'], ['aa', 'b']]"
      ]
     },
     "execution_count": 177,
     "metadata": {},
     "output_type": "execute_result"
    }
   ],
   "source": [
    "# @leet start\n",
    "from typing import List\n",
    "class Solution:\n",
    "    def palindrome(self, st:str, i:int, j:int):\n",
    "        while i<j:\n",
    "            if st[i] != st[j]:\n",
    "                return False\n",
    "            j-=1\n",
    "            i+=1\n",
    "        return True\n",
    "    def partition(self, s: str) -> List[List[str]]:\n",
    "        res = []\n",
    "        part = []\n",
    "        def dfs(i:int):\n",
    "            if i>= len(s):\n",
    "                res.append(part.copy())\n",
    "\n",
    "            for j in range(i, len(s)):\n",
    "                if self.palindrome(s, i, j):\n",
    "                    part.append(s[i:j+1])\n",
    "                    dfs(j+1)\n",
    "                    part.pop()\n",
    "        dfs(0)\n",
    "        return res\n",
    "                \n",
    "            \n",
    "sol = Solution()\n",
    "sol.partition(\"aab\")\n",
    "# @leet end"
   ]
  },
  {
   "cell_type": "code",
   "execution_count": 191,
   "id": "ff5c6121-0a26-4632-ae2c-80a0979d08d3",
   "metadata": {},
   "outputs": [
    {
     "data": {
      "text/plain": [
       "4"
      ]
     },
     "execution_count": 191,
     "metadata": {},
     "output_type": "execute_result"
    }
   ],
   "source": [
    "# @leet start\n",
    "class Solution:\n",
    "    def uniquePathsIII(self, grid: List[List[int]]) -> int:\n",
    "        m = len(grid)\n",
    "        n = len(grid[0])\n",
    "        st_i, st_j, end_i, end_j, ec = 0, 0, 0, 0, 1\n",
    "        for i in range(m):\n",
    "            for j in range(n):\n",
    "                if grid[i][j] == 1:\n",
    "                    st_i, st_j = i, j\n",
    "                elif grid[i][j] == 2:\n",
    "                    end_i, end_j = i, j\n",
    "                elif grid[i][j]==0:\n",
    "                    ec+=1\n",
    "        \n",
    "\n",
    "        def isValidMove(i: int, j: int):\n",
    "            if i< 0 or i >= m or j < 0 or j >= n or grid[i][j] == -1:\n",
    "                return False\n",
    "            else:\n",
    "                return True\n",
    "\n",
    "        def dfs(i: int, j: int, rem:int):\n",
    "            if not isValidMove(i, j):\n",
    "                return 0\n",
    "            if (i, j) == (end_i ,end_j):\n",
    "                return 1 if rem==0 else 0\n",
    "\n",
    "            grid[i][j] = -1\n",
    "            # traverse right , left, bottom , top\n",
    "            _sum =(dfs(i, j + 1, rem-1)+\n",
    "                   dfs(i, j - 1, rem-1)+\n",
    "                   dfs(i + 1, j, rem-1)+\n",
    "                   dfs(i - 1, j, rem-1)\n",
    "            )\n",
    "            grid[i][j] = 0\n",
    "            return _sum\n",
    "\n",
    "        return dfs(st_i, st_j, ec)\n",
    "\n",
    "\n",
    "# @leet end\n",
    "\n",
    "        \n",
    "\n",
    "\n",
    "        \n",
    "sol = Solution()\n",
    "grid = [[1,0,0,0],[0,0,0,0],[0,0,2,-1]]\n",
    "grid = [[1,0,0,0],[0,0,0,0],[0,0,0,2]]\n",
    "sol.uniquePathsIII(grid)"
   ]
  },
  {
   "cell_type": "code",
   "execution_count": 9,
   "id": "4bab8e48-60ba-4071-97dd-d1373b60424e",
   "metadata": {},
   "outputs": [
    {
     "data": {
      "text/plain": [
       "False"
      ]
     },
     "execution_count": 9,
     "metadata": {},
     "output_type": "execute_result"
    }
   ],
   "source": [
    "from typing import List\n",
    "class Solution:\n",
    "    def exist(self, board: List[List[str]], word: str) -> bool:\n",
    "        m = len(board)\n",
    "        n = len(board[0])\n",
    "        path = set()\n",
    "        def dfs(r:int, c:int, i:int):\n",
    "            if i == len(word):\n",
    "                return True\n",
    "            if r<0 or r>=m or c>=n or c<0 or board[r][c]!=word[i] or (r,c) in path:\n",
    "                return False\n",
    "\n",
    "            path.add((r,c))\n",
    "\n",
    "            res  =  (dfs(r+1, c, i+1) or\n",
    "                    dfs(r-1, c, i+1) or \n",
    "                    dfs(r, c+1, i+1) or\n",
    "                    dfs(r, c-1, i+1))\n",
    "\n",
    "            path.remove((r,c))\n",
    "            return res\n",
    "            \n",
    "        for i in range(m):\n",
    "            for j in range(n):\n",
    "                if dfs(i, j, 0): return True\n",
    "        return False\n",
    "                                \n",
    "board = [[\"A\",\"B\",\"C\",\"E\"],[\"S\",\"F\",\"C\",\"S\"],[\"A\",\"D\",\"E\",\"E\"]]\n",
    "word = \"ABCCED\"  \n",
    "board = [[\"A\",\"B\",\"C\",\"E\"],[\"S\",\"F\",\"C\",\"S\"],[\"A\",\"D\",\"E\",\"E\"]]\n",
    "word = \"SEE\"\n",
    "board = [[\"A\",\"B\",\"C\",\"E\"],[\"S\",\"F\",\"C\",\"S\"],[\"A\",\"D\",\"E\",\"E\"]]\n",
    "word = \"ABCB\"\n",
    "# board = [[\"a\"]]\n",
    "# word = \"a\"\n",
    "sol = Solution()\n",
    "sol.exist(board, word)"
   ]
  },
  {
   "cell_type": "code",
   "execution_count": null,
   "id": "3e39d91b-0d89-4ddd-b885-994cc8f3d6d1",
   "metadata": {},
   "outputs": [],
   "source": []
  }
 ],
 "metadata": {
  "kernelspec": {
   "display_name": "Python 3 (ipykernel)",
   "language": "python",
   "name": "python3"
  },
  "language_info": {
   "codemirror_mode": {
    "name": "ipython",
    "version": 3
   },
   "file_extension": ".py",
   "mimetype": "text/x-python",
   "name": "python",
   "nbconvert_exporter": "python",
   "pygments_lexer": "ipython3",
   "version": "3.12.6"
  }
 },
 "nbformat": 4,
 "nbformat_minor": 5
}
